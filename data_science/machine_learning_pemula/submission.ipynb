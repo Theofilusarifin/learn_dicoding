{
 "cells": [
  {
   "cell_type": "markdown",
   "metadata": {},
   "source": [
    "# Proyek Machine Learning Pemula\n",
    "- Nama: Theofilus Arifin\n",
    "- Email: theofilusarifin@gmail.com\n",
    "- Id Dicoding: theofilusarifin"
   ]
  },
  {
   "cell_type": "markdown",
   "metadata": {},
   "source": [
    "## Import Library"
   ]
  },
  {
   "cell_type": "code",
   "execution_count": 52,
   "metadata": {},
   "outputs": [
    {
     "ename": "ModuleNotFoundError",
     "evalue": "No module named 'google.colab'",
     "output_type": "error",
     "traceback": [
      "\u001b[1;31m---------------------------------------------------------------------------\u001b[0m",
      "\u001b[1;31mModuleNotFoundError\u001b[0m                       Traceback (most recent call last)",
      "\u001b[1;32md:\\Documents\\GitHub\\learn_dicoding\\data_science\\machine_learning_pemula\\submission.ipynb Cell 3\u001b[0m line \u001b[0;36m9\n\u001b[0;32m      <a href='vscode-notebook-cell:/d%3A/Documents/GitHub/learn_dicoding/data_science/machine_learning_pemula/submission.ipynb#X22sZmlsZQ%3D%3D?line=6'>7</a>\u001b[0m \u001b[39mfrom\u001b[39;00m \u001b[39mtensorflow\u001b[39;00m\u001b[39m.\u001b[39;00m\u001b[39mkeras\u001b[39;00m\u001b[39m.\u001b[39;00m\u001b[39mutils\u001b[39;00m \u001b[39mimport\u001b[39;00m to_categorical\n\u001b[0;32m      <a href='vscode-notebook-cell:/d%3A/Documents/GitHub/learn_dicoding/data_science/machine_learning_pemula/submission.ipynb#X22sZmlsZQ%3D%3D?line=7'>8</a>\u001b[0m \u001b[39mfrom\u001b[39;00m \u001b[39msklearn\u001b[39;00m\u001b[39m.\u001b[39;00m\u001b[39mpreprocessing\u001b[39;00m \u001b[39mimport\u001b[39;00m LabelEncoder, OneHotEncoder\n\u001b[1;32m----> <a href='vscode-notebook-cell:/d%3A/Documents/GitHub/learn_dicoding/data_science/machine_learning_pemula/submission.ipynb#X22sZmlsZQ%3D%3D?line=8'>9</a>\u001b[0m \u001b[39mfrom\u001b[39;00m \u001b[39mgoogle\u001b[39;00m\u001b[39m.\u001b[39;00m\u001b[39mcolab\u001b[39;00m \u001b[39mimport\u001b[39;00m files\n\u001b[0;32m     <a href='vscode-notebook-cell:/d%3A/Documents/GitHub/learn_dicoding/data_science/machine_learning_pemula/submission.ipynb#X22sZmlsZQ%3D%3D?line=9'>10</a>\u001b[0m \u001b[39mfrom\u001b[39;00m \u001b[39mmatplotlib\u001b[39;00m \u001b[39mimport\u001b[39;00m pyplot \u001b[39mas\u001b[39;00m plt\n\u001b[0;32m     <a href='vscode-notebook-cell:/d%3A/Documents/GitHub/learn_dicoding/data_science/machine_learning_pemula/submission.ipynb#X22sZmlsZQ%3D%3D?line=10'>11</a>\u001b[0m \u001b[39mfrom\u001b[39;00m \u001b[39mkeras\u001b[39;00m\u001b[39m.\u001b[39;00m\u001b[39mpreprocessing\u001b[39;00m \u001b[39mimport\u001b[39;00m image\n",
      "\u001b[1;31mModuleNotFoundError\u001b[0m: No module named 'google.colab'"
     ]
    }
   ],
   "source": [
    "import requests\n",
    "import zipfile\n",
    "import io\n",
    "\n",
    "from sklearn.model_selection import train_test_split\n",
    "from tensorflow.keras.preprocessing.image import ImageDataGenerator\n",
    "from tensorflow.keras.utils import to_categorical\n",
    "from sklearn.preprocessing import LabelEncoder, OneHotEncoder\n",
    "from google.colab import files\n",
    "from matplotlib import pyplot as plt\n",
    "from keras.preprocessing import image\n",
    "import tensorflow as tf\n",
    "import numpy as np\n",
    "import cv2\n",
    "import os\n",
    "import matplotlib.pyplot as plt\n",
    "import matplotlib.image as mpimg"
   ]
  },
  {
   "cell_type": "markdown",
   "metadata": {},
   "source": [
    "## Data Gathering"
   ]
  },
  {
   "cell_type": "code",
   "execution_count": 37,
   "metadata": {},
   "outputs": [],
   "source": [
    "# url = \"https://github.com/dicodingacademy/assets/releases/download/release/rockpaperscissors.zip\"\n",
    "# response = requests.get(url)\n",
    "# with zipfile.ZipFile(io.BytesIO(response.content)) as z:\n",
    "#     z.extractall()"
   ]
  },
  {
   "cell_type": "code",
   "execution_count": 38,
   "metadata": {},
   "outputs": [],
   "source": [
    "# Load folder in a directory\n",
    "directory_path = 'rockpaperscissors'\n",
    "files = os.listdir(directory_path)\n",
    "\n",
    "# Load Subfolders\n",
    "subfolders = [f.path for f in os.scandir(directory_path) if f.is_dir()]"
   ]
  },
  {
   "cell_type": "code",
   "execution_count": 39,
   "metadata": {},
   "outputs": [],
   "source": [
    "image_data = []\n",
    "labels = []\n",
    "\n",
    "# read files\n",
    "for folder in subfolders:\n",
    "    label = os.path.basename(folder)\n",
    "    for filename in os.listdir(folder):\n",
    "        if filename.endswith('.png'):\n",
    "            image_path = os.path.join(folder, filename)\n",
    "            image = cv2.imread(image_path)\n",
    "            if image is not None:\n",
    "                image = cv2.cvtColor(image, cv2.COLOR_BGR2RGB)\n",
    "                image = cv2.resize(image, (150, 150))\n",
    "                image_data.append(image)\n",
    "                labels.append(label)"
   ]
  },
  {
   "cell_type": "code",
   "execution_count": 40,
   "metadata": {},
   "outputs": [],
   "source": [
    "# Convert image data to numpy array\n",
    "image_data_arr = np.array(image_data)"
   ]
  },
  {
   "cell_type": "code",
   "execution_count": 41,
   "metadata": {},
   "outputs": [
    {
     "name": "stderr",
     "output_type": "stream",
     "text": [
      "c:\\Users\\asus\\.virtualenvs\\learn_dicoding-QPW79iQS\\Lib\\site-packages\\sklearn\\preprocessing\\_encoders.py:975: FutureWarning: `sparse` was renamed to `sparse_output` in version 1.2 and will be removed in 1.4. `sparse_output` is ignored unless you leave `sparse` to its default value.\n",
      "  warnings.warn(\n"
     ]
    }
   ],
   "source": [
    "# Create a label encoder\n",
    "label_encoder = LabelEncoder()\n",
    "integer_labels = label_encoder.fit_transform(labels)\n",
    "one_hot_encoder = OneHotEncoder(sparse=False)\n",
    "integer_labels = integer_labels.reshape(-1, 1)\n",
    "labels = one_hot_encoder.fit_transform(integer_labels)"
   ]
  },
  {
   "cell_type": "code",
   "execution_count": 42,
   "metadata": {},
   "outputs": [
    {
     "name": "stdout",
     "output_type": "stream",
     "text": [
      "Total Image Data: 2188 Sample\n",
      "Image Data Shape: (2188, 150, 150, 3)\n"
     ]
    }
   ],
   "source": [
    "print(\"Total Image Data:\", len(image_data_arr), \"Sample\")\n",
    "print(\"Image Data Shape:\", image_data_arr.shape)"
   ]
  },
  {
   "cell_type": "markdown",
   "metadata": {},
   "source": [
    "## Preprocessing"
   ]
  },
  {
   "cell_type": "code",
   "execution_count": 43,
   "metadata": {},
   "outputs": [
    {
     "name": "stdout",
     "output_type": "stream",
     "text": [
      "Training Data: 1312 Sample\n",
      "Test Data: 876 Sample\n"
     ]
    }
   ],
   "source": [
    "# Dataset Split (40% for Validation Set)\n",
    "X_train, X_test, y_train, y_test = train_test_split(image_data_arr, labels, test_size=0.4, random_state=1)\n",
    "\n",
    "print(\"Training Data:\", len(X_train), \"Sample\")\n",
    "print(\"Test Data:\", len(X_test), \"Sample\")"
   ]
  },
  {
   "cell_type": "code",
   "execution_count": 44,
   "metadata": {},
   "outputs": [],
   "source": [
    "# Train Data Generator\n",
    "train_datagen = ImageDataGenerator(\n",
    "    rescale=1./255,\n",
    "    rotation_range=20,\n",
    "    horizontal_flip=True,\n",
    "    shear_range=0.2,\n",
    "    fill_mode='nearest')\n",
    "\n",
    "train_generator = train_datagen.flow(X_train,  y_train, batch_size=32)"
   ]
  },
  {
   "cell_type": "code",
   "execution_count": 45,
   "metadata": {},
   "outputs": [],
   "source": [
    "# Validation Data Generator\n",
    "test_datagen = ImageDataGenerator(rescale=1./255)\n",
    "validation_generator = test_datagen.flow(X_test, y_test, batch_size=32)"
   ]
  },
  {
   "cell_type": "markdown",
   "metadata": {},
   "source": [
    "## Modeling"
   ]
  },
  {
   "cell_type": "code",
   "execution_count": 46,
   "metadata": {},
   "outputs": [
    {
     "name": "stdout",
     "output_type": "stream",
     "text": [
      "Model: \"sequential_1\"\n",
      "_________________________________________________________________\n",
      " Layer (type)                Output Shape              Param #   \n",
      "=================================================================\n",
      " conv2d_3 (Conv2D)           (None, 148, 148, 32)      896       \n",
      "                                                                 \n",
      " max_pooling2d_3 (MaxPoolin  (None, 74, 74, 32)        0         \n",
      " g2D)                                                            \n",
      "                                                                 \n",
      " conv2d_4 (Conv2D)           (None, 72, 72, 64)        18496     \n",
      "                                                                 \n",
      " max_pooling2d_4 (MaxPoolin  (None, 36, 36, 64)        0         \n",
      " g2D)                                                            \n",
      "                                                                 \n",
      " conv2d_5 (Conv2D)           (None, 34, 34, 128)       73856     \n",
      "                                                                 \n",
      " max_pooling2d_5 (MaxPoolin  (None, 17, 17, 128)       0         \n",
      " g2D)                                                            \n",
      "                                                                 \n",
      " flatten_1 (Flatten)         (None, 36992)             0         \n",
      "                                                                 \n",
      " dropout_1 (Dropout)         (None, 36992)             0         \n",
      "                                                                 \n",
      " dense_2 (Dense)             (None, 512)               18940416  \n",
      "                                                                 \n",
      " dense_3 (Dense)             (None, 3)                 1539      \n",
      "                                                                 \n",
      "=================================================================\n",
      "Total params: 19035203 (72.61 MB)\n",
      "Trainable params: 19035203 (72.61 MB)\n",
      "Non-trainable params: 0 (0.00 Byte)\n",
      "_________________________________________________________________\n"
     ]
    }
   ],
   "source": [
    "# Create Model\n",
    "model = tf.keras.models.Sequential([\n",
    "    tf.keras.layers.Conv2D(32, (3, 3), activation='relu', input_shape=(150, 150, 3)),\n",
    "    tf.keras.layers.MaxPooling2D(2, 2),\n",
    "    tf.keras.layers.Conv2D(64, (3, 3), activation='relu'),\n",
    "    tf.keras.layers.MaxPooling2D(2, 2),\n",
    "    tf.keras.layers.Conv2D(128, (3, 3), activation='relu'),\n",
    "    tf.keras.layers.MaxPooling2D(2, 2),\n",
    "    tf.keras.layers.Flatten(),\n",
    "    tf.keras.layers.Dropout(0.5),\n",
    "    tf.keras.layers.Dense(512, activation='relu'),\n",
    "    tf.keras.layers.Dense(3, activation='softmax')\n",
    "])\n",
    "\n",
    "model.summary()"
   ]
  },
  {
   "cell_type": "code",
   "execution_count": 47,
   "metadata": {},
   "outputs": [],
   "source": [
    "# compile model with adam optimizer and categorical crossentropy\n",
    "model.compile(loss='categorical_crossentropy',\n",
    "              optimizer=tf.optimizers.Adam(),\n",
    "              metrics=['accuracy'])"
   ]
  },
  {
   "cell_type": "code",
   "execution_count": 48,
   "metadata": {},
   "outputs": [
    {
     "name": "stdout",
     "output_type": "stream",
     "text": [
      "Epoch 1/10\n",
      "20/20 - 23s - loss: 1.3154 - accuracy: 0.3516 - val_loss: 1.0493 - val_accuracy: 0.5500 - 23s/epoch - 1s/step\n",
      "Epoch 2/10\n",
      "20/20 - 21s - loss: 0.9187 - accuracy: 0.5984 - val_loss: 0.6670 - val_accuracy: 0.7250 - 21s/epoch - 1s/step\n",
      "Epoch 3/10\n",
      "20/20 - 21s - loss: 0.6912 - accuracy: 0.7328 - val_loss: 0.4636 - val_accuracy: 0.8313 - 21s/epoch - 1s/step\n",
      "Epoch 4/10\n",
      "20/20 - 16s - loss: 0.5258 - accuracy: 0.8109 - val_loss: 0.2556 - val_accuracy: 0.9187 - 16s/epoch - 789ms/step\n",
      "Epoch 5/10\n",
      "20/20 - 21s - loss: 0.4480 - accuracy: 0.8453 - val_loss: 0.2707 - val_accuracy: 0.9281 - 21s/epoch - 1s/step\n",
      "Epoch 6/10\n",
      "20/20 - 20s - loss: 0.3562 - accuracy: 0.8844 - val_loss: 0.2817 - val_accuracy: 0.9094 - 20s/epoch - 997ms/step\n",
      "Epoch 7/10\n",
      "20/20 - 20s - loss: 0.2705 - accuracy: 0.8953 - val_loss: 0.1584 - val_accuracy: 0.9500 - 20s/epoch - 996ms/step\n",
      "Epoch 8/10\n",
      "20/20 - 21s - loss: 0.2642 - accuracy: 0.9094 - val_loss: 0.2170 - val_accuracy: 0.9250 - 21s/epoch - 1s/step\n",
      "Epoch 9/10\n",
      "20/20 - 22s - loss: 0.2354 - accuracy: 0.9156 - val_loss: 0.1503 - val_accuracy: 0.9438 - 22s/epoch - 1s/step\n",
      "Epoch 10/10\n",
      "20/20 - 21s - loss: 0.2621 - accuracy: 0.9156 - val_loss: 0.1160 - val_accuracy: 0.9656 - 21s/epoch - 1s/step\n"
     ]
    }
   ],
   "source": [
    "# train model\n",
    "model_history = model.fit(\n",
    "    train_generator,\n",
    "    steps_per_epoch=20,\n",
    "    epochs=10,\n",
    "    validation_data=validation_generator,\n",
    "    validation_steps=10,\n",
    "    verbose=2,\n",
    ")"
   ]
  },
  {
   "cell_type": "markdown",
   "metadata": {},
   "source": [
    "## Evaluation"
   ]
  },
  {
   "cell_type": "code",
   "execution_count": 49,
   "metadata": {},
   "outputs": [
    {
     "data": {
      "image/png": "[encoded data removed]",
      "text/plain": [
       "<Figure size 640x480 with 1 Axes>"
      ]
     },
     "metadata": {},
     "output_type": "display_data"
    }
   ],
   "source": [
    "# accuracy train & validation\n",
    "plt.plot(model_history.history['accuracy'], label='Training Accuracy')\n",
    "plt.plot(model_history.history['val_accuracy'], label='Validation Accuracy')\n",
    "plt.title('Accuracy')\n",
    "plt.ylabel('Value')\n",
    "plt.xlabel('Epoch')\n",
    "plt.legend(loc=\"lower right\")\n",
    "plt.show()"
   ]
  },
  {
   "cell_type": "markdown",
   "metadata": {},
   "source": [
    "## Prediction Testing"
   ]
  },
  {
   "cell_type": "code",
   "execution_count": 51,
   "metadata": {},
   "outputs": [
    {
     "ename": "AttributeError",
     "evalue": "'list' object has no attribute 'upload'",
     "output_type": "error",
     "traceback": [
      "\u001b[1;31m---------------------------------------------------------------------------\u001b[0m",
      "\u001b[1;31mAttributeError\u001b[0m                            Traceback (most recent call last)",
      "\u001b[1;32md:\\Documents\\GitHub\\learn_dicoding\\data_science\\machine_learning_pemula\\submission.ipynb Cell 22\u001b[0m line \u001b[0;36m1\n\u001b[1;32m----> <a href='vscode-notebook-cell:/d%3A/Documents/GitHub/learn_dicoding/data_science/machine_learning_pemula/submission.ipynb#X36sZmlsZQ%3D%3D?line=0'>1</a>\u001b[0m uploaded \u001b[39m=\u001b[39m files\u001b[39m.\u001b[39;49mupload()\n\u001b[0;32m      <a href='vscode-notebook-cell:/d%3A/Documents/GitHub/learn_dicoding/data_science/machine_learning_pemula/submission.ipynb#X36sZmlsZQ%3D%3D?line=2'>3</a>\u001b[0m \u001b[39mfor\u001b[39;00m fn \u001b[39min\u001b[39;00m uploaded\u001b[39m.\u001b[39mkeys():\n\u001b[0;32m      <a href='vscode-notebook-cell:/d%3A/Documents/GitHub/learn_dicoding/data_science/machine_learning_pemula/submission.ipynb#X36sZmlsZQ%3D%3D?line=4'>5</a>\u001b[0m   path \u001b[39m=\u001b[39m fn\n",
      "\u001b[1;31mAttributeError\u001b[0m: 'list' object has no attribute 'upload'"
     ]
    }
   ],
   "source": [
    "uploaded = files.upload()\n",
    "\n",
    "for fn in uploaded.keys():\n",
    "\n",
    "  path = fn\n",
    "  img = image.load_img(path, target_size=(150, 150))\n",
    "  imgplot = plt.imshow(img)\n",
    "  x = image.img_to_array(img)\n",
    "  x = np.expand_dims(x, axis=0)\n",
    "\n",
    "  images = np.vstack([x])\n",
    "  classes = model.predict(images, batch_size=10)\n",
    "\n",
    "  print(fn)\n",
    "  if classes[0, 0] != 0:\n",
    "    print('paper')\n",
    "  elif classes[0, 1] != 0:\n",
    "    print('rock')\n",
    "  else:\n",
    "    print('scissors')"
   ]
  }
 ],
 "metadata": {
  "kernelspec": {
   "display_name": "learn_dicoding-QPW79iQS",
   "language": "python",
   "name": "python3"
  },
  "language_info": {
   "codemirror_mode": {
    "name": "ipython",
    "version": 3
   },
   "file_extension": ".py",
   "mimetype": "text/x-python",
   "name": "python",
   "nbconvert_exporter": "python",
   "pygments_lexer": "ipython3",
   "version": "3.11.6"
  }
 },
 "nbformat": 4,
 "nbformat_minor": 2
}
